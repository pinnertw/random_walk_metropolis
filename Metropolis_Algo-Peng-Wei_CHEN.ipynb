{
 "cells": [
  {
   "cell_type": "raw",
   "id": "2a940038",
   "metadata": {},
   "source": [
    "expliquer l'intérêt pratique du résultat de scaling de\n",
    "l'article joint de Roberts, Gelman, Gilks et illustrer numériquement ce\n",
    "résultat,"
   ]
  },
  {
   "cell_type": "markdown",
   "id": "32855696",
   "metadata": {},
   "source": [
    "# Weak Convergence and Optimal Scaling of Random Walk Metropolis Algorithms\n",
    "\n",
    "<div style=\"text-align: right\"> Peng-Wei CHEN</div>"
   ]
  },
  {
   "cell_type": "markdown",
   "id": "a6a7a6b6",
   "metadata": {},
   "source": [
    "### Abstract\n",
    "This paper provides a theoretical results for the best scaling proposal and the accept/reject ratios for the Metropolis-Hastings Algorithm with certain conditions:\n",
    " 1. Having the same distribution according to different coordinates ($f$)\n",
    " 2. (A1) $\\mathbb{E}_f \\left[ \\left( \\frac{f'(X)}{f(X)}\\right)^8 \\right] = M < \\infty$\n",
    " 3. (A2) $\\mathbb{E}_f \\left[ \\left( \\frac{f''(X)}{f(X)}\\right)^4 \\right] < \\infty$\n",
    " 2. We suppose the random walk is chosen by a Gaussian proposal density.\n",
    "\n",
    "The results show that for any coordinates of the resulting simulations, the one-dimensional process converges weakly to a Langevin diffusion. We can thus find the optimal rate by solving this Langevin equation."
   ]
  },
  {
   "cell_type": "markdown",
   "id": "40ae6101",
   "metadata": {},
   "source": [
    "### Algorithme"
   ]
  },
  {
   "cell_type": "markdown",
   "id": "37bd9ff5",
   "metadata": {},
   "source": [
    "To be clearer, consider a n-dimension random variable $X^n$. Let the density function be \n",
    "$$ \\pi_n(x^n) = \\prod_{i=1}^n f(x^n_i) $$\n",
    "and the proposal density as follows:\n",
    "$$q_n(x^n, y^n) = \\frac{1}{(2\\pi\\sigma^2_n)^{n/2}} exp\\left\\{  \\frac{-1}{2\\sigma^2_n} |y^n - x^n|^2 \\right\\} $$\n",
    "which is a n-dimension Gaussian law with mean $= x^n$ and standard-type $ = \\sigma_n^2$.\n",
    "\n",
    "\n",
    "By taking the acceptance function\n",
    "$$ \\alpha(X^n_{m-1}, Y^n) = 1 \\wedge \\frac{\\pi_n (Y^n)}{\\pi_n (X^n_{m-1})} $$\n",
    "we have thus the Metropolis Hasting algorithm for the random walk, where the deduced Markov chain is ergodic with respect to $\\pi_n$."
   ]
  },
  {
   "cell_type": "markdown",
   "id": "b486dc39",
   "metadata": {},
   "source": [
    "### Theoretical results\n",
    "The main result of this paper is to show that the best variance to choose is (the factor (n-1) can be replaced by (n))\n",
    "$$ \\sigma^2_n = \\frac{l^2}{(n-1)}$$\n",
    "where\n",
    "$$ l = \\frac{2.38}{\\sqrt{I}} $$\n",
    "and\n",
    "$$ I = \\mathbb{E}_f \\left[ \\left( \\frac{f'(X)}{f(X)} \\right)^2 \\right] $$"
   ]
  },
  {
   "cell_type": "markdown",
   "id": "945311f5",
   "metadata": {},
   "source": [
    "### Interest while practicing"
   ]
  },
  {
   "cell_type": "code",
   "execution_count": null,
   "id": "bf1b2e8b",
   "metadata": {},
   "outputs": [],
   "source": []
  },
  {
   "cell_type": "code",
   "execution_count": 8,
   "id": "c90a726f",
   "metadata": {},
   "outputs": [],
   "source": [
    "%matplotlib inline\n",
    "import numpy as np\n",
    "from scipy.stats import norm\n",
    "import matplotlib.pyplot as plt\n",
    "from tqdm.notebook import tqdm\n",
    "\n",
    "np.random.seed(0)"
   ]
  },
  {
   "cell_type": "markdown",
   "id": "ae8f0bda",
   "metadata": {},
   "source": [
    "We define the instance for the simulation with the following class:"
   ]
  },
  {
   "cell_type": "code",
   "execution_count": 25,
   "id": "95ce811f",
   "metadata": {},
   "outputs": [],
   "source": [
    "class Metropolis_Hastings:\n",
    "    def __init__(self, n, m, l, f, DEBUG=False):\n",
    "        self.n = n\n",
    "        self.m = m\n",
    "        self.l = l\n",
    "        self.f = np.vectorize(f)\n",
    "        self.DEBUG = DEBUG\n",
    "    \n",
    "    def __call__(self, l=None, X_0=None):\n",
    "        self.run(l, X_0)\n",
    "        return self\n",
    "    \n",
    "    def pi(self, x):\n",
    "        return np.prod(self.f(x))\n",
    "    \n",
    "    def alpha(self, X_last, Y):\n",
    "        return min(1, self.pi(Y) / self.pi(X_last))\n",
    "    \n",
    "    def run(self, l = None, X_0=None):\n",
    "        if l is None:\n",
    "            n, m, l, pi, alpha = self.n, self.m, self.l, self.pi, self.alpha\n",
    "        else:\n",
    "            n, m, pi, alpha = self.n, self.m, self.pi, self.alpha\n",
    "        sigma_n = l ** 2 / (n-1)\n",
    "        if X_0 is None:\n",
    "            X_0 = np.random.normal(size=n)\n",
    "        random_state = np.random.normal(size=(m, n))\n",
    "        U = np.random.uniform(size=m)\n",
    "\n",
    "        # Run Metropolis random walk algorithm.\n",
    "        results = np.zeros(shape=(m+1, n))\n",
    "        pi_x = np.zeros(shape=(m, n))\n",
    "        results[0] = X_0\n",
    "        accepted = 0\n",
    "        for i in tqdm(range(m)):\n",
    "            potential_next_y = results[i] + sigma_n * random_state[i]\n",
    "            potential = alpha(results[i], potential_next_y)\n",
    "            if U[i] < potential:\n",
    "                results[i+1] = potential_next_y\n",
    "                accepted += 1\n",
    "            else:\n",
    "                results[i+1] = results[i]\n",
    "            if self.DEBUG and np.linalg.norm(results[i+1]) > 5:\n",
    "                print(np.linalg.norm(results[i+1]), results[i], results[i+1], potential, pi(results[i]), pi(potential_next_y))\n",
    "            pi_x[i] = pi(results[i])\n",
    "        print(\"Accepted rate : {}\".format(accepted / m))\n",
    "        self.accepted_rate = accepted / m\n",
    "        self.simulation = results\n",
    "        self.pi_x = pi_x\n",
    "        return accepted / m, results, pi_x\n",
    "\n",
    "    def plot_hist(self, bins_cut = 40, x_cut = 1000, bot = -5, top = 5):\n",
    "        plt.hist(self.simulation[:, 0], bins=np.linspace(bot, top, bins_cut), density=True)\n",
    "        x = np.linspace(bot, top, x_cut)\n",
    "        plt.plot(x, [self.f(x_) for x_ in x])\n",
    "        plt.show()\n",
    "    \n",
    "    def plot_simulation(self):\n",
    "        plt.plot(self.simulation[:, 0])\n",
    "        plt.show()"
   ]
  },
  {
   "cell_type": "code",
   "execution_count": 26,
   "id": "28a29f8b",
   "metadata": {},
   "outputs": [],
   "source": [
    "maximum = 1\n",
    "def f1(x_i):\n",
    "    if np.abs(x_i) < 1e-5:\n",
    "        return maximum\n",
    "    else:\n",
    "        return min(maximum, 1/np.abs(x_i) ** 3)\n",
    "\n",
    "def f2(x_i):\n",
    "    return norm.pdf(x_i)\n",
    "\n",
    "def f3(x_i):\n",
    "    return norm.pdf(x_i, loc=2, scale=1.414)"
   ]
  },
  {
   "cell_type": "code",
   "execution_count": 28,
   "id": "fba3f480",
   "metadata": {},
   "outputs": [
    {
     "data": {
      "application/vnd.jupyter.widget-view+json": {
       "model_id": "0b09c3e00ce04f0aacbb8520f265973b",
       "version_major": 2,
       "version_minor": 0
      },
      "text/plain": [
       "  0%|          | 0/10000 [00:00<?, ?it/s]"
      ]
     },
     "metadata": {},
     "output_type": "display_data"
    },
    {
     "name": "stdout",
     "output_type": "stream",
     "text": [
      "Accepted rate : 0.9997\n"
     ]
    },
    {
     "ename": "AttributeError",
     "evalue": "'NoneType' object has no attribute 'plot_hist'",
     "output_type": "error",
     "traceback": [
      "\u001b[0;31m---------------------------------------------------------------------------\u001b[0m",
      "\u001b[0;31mAttributeError\u001b[0m                            Traceback (most recent call last)",
      "\u001b[0;32m<timed exec>\u001b[0m in \u001b[0;36m<module>\u001b[0;34m\u001b[0m\n",
      "\u001b[0;31mAttributeError\u001b[0m: 'NoneType' object has no attribute 'plot_hist'"
     ]
    }
   ],
   "source": [
    "%%time\n",
    "instance = Metropolis_Hastings(n=2, m=int(1e4), l=0.01, f=f3)()\n",
    "instance.plot_hist()\n",
    "instance.plot_simulation()"
   ]
  },
  {
   "cell_type": "code",
   "execution_count": 152,
   "id": "094cc140",
   "metadata": {},
   "outputs": [
    {
     "data": {
      "text/plain": [
       "<matplotlib.collections.PathCollection at 0x7f61ee961fd0>"
      ]
     },
     "execution_count": 152,
     "metadata": {},
     "output_type": "execute_result"
    },
    {
     "data": {
      "image/png": "[encoded data removed]",
      "text/plain": [
       "<Figure size 432x288 with 1 Axes>"
      ]
     },
     "metadata": {
      "needs_background": "light"
     },
     "output_type": "display_data"
    }
   ],
   "source": [
    "plt.scatter(results[:, 0], results[:, 1])"
   ]
  },
  {
   "cell_type": "code",
   "execution_count": null,
   "id": "06d972a4",
   "metadata": {},
   "outputs": [],
   "source": [
    "# Best case\n",
    "def I_cal():\n",
    "    return 1\n",
    "    #return esp((f_derive(X) / f(X)) ** 2) over X\n",
    "\n",
    "def psi(x):\n",
    "    return norm.cdf(x)\n",
    "    \n",
    "def h(l):\n",
    "    return 2 * l ** 2 * psi(-l * np.sqrt(I) / 2)\n",
    "\n",
    "l = 2.38 / np.sqrt(I)"
   ]
  },
  {
   "cell_type": "code",
   "execution_count": null,
   "id": "50f57877",
   "metadata": {},
   "outputs": [],
   "source": []
  }
 ],
 "metadata": {
  "kernelspec": {
   "display_name": "Python 3 (ipykernel)",
   "language": "python",
   "name": "python3"
  },
  "language_info": {
   "codemirror_mode": {
    "name": "ipython",
    "version": 3
   },
   "file_extension": ".py",
   "mimetype": "text/x-python",
   "name": "python",
   "nbconvert_exporter": "python",
   "pygments_lexer": "ipython3",
   "version": "3.9.7"
  }
 },
 "nbformat": 4,
 "nbformat_minor": 5
}
